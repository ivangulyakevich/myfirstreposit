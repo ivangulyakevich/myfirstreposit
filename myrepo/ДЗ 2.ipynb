{
 "cells": [
  {
   "cell_type": "code",
   "execution_count": null,
   "id": "ac718f06-1a48-4a48-85ca-73b09e780a3c",
   "metadata": {
    "tags": []
   },
   "outputs": [],
   "source": [
    "s = input()\n",
    "print(s[::-1])"
   ]
  },
  {
   "cell_type": "code",
   "execution_count": null,
   "id": "88015f8d-0883-4b12-8168-c3ecf387edd3",
   "metadata": {},
   "outputs": [],
   "source": [
    "s = input()\n",
    "space = 0\n",
    "for i in range (len(s)):\n",
    "  if s[i] != ' ':\n",
    "    space += 1\n",
    "  else:\n",
    "    break\n",
    "print(f\"{s[space+1:]} {s[:space]}\")"
   ]
  },
  {
   "cell_type": "code",
   "execution_count": null,
   "id": "485cd308-fb60-4bfe-b796-e362dfca1c08",
   "metadata": {},
   "outputs": [],
   "source": [
    "n = int(input())\n",
    "for i in range (n):\n",
    "  print ('*' * n)"
   ]
  },
  {
   "cell_type": "code",
   "execution_count": null,
   "id": "f3a4fb63-bd90-4617-85a6-1911ba91b757",
   "metadata": {},
   "outputs": [],
   "source": [
    "n = input()\n",
    "print (n[1] + n[0] + n[3] + n[2])"
   ]
  },
  {
   "cell_type": "code",
   "execution_count": null,
   "id": "903ee05f-c177-4654-8a4a-c7fbb9604eed",
   "metadata": {},
   "outputs": [],
   "source": [
    "n1 = input()\n",
    "n2 = input()\n",
    "if len(n1) >= len(n2):\n",
    "  n2 = '0' * (len(n1) - len(n2)) + n2\n",
    "else:\n",
    "  n1 = '0' * (len(n2) - len(n1)) + n1\n",
    "s = ''\n",
    "for i in range (len(n1)):\n",
    "  s += str((int(n1[i]) + int(n2[i])) % 10)\n",
    "print (int(s))"
   ]
  },
  {
   "cell_type": "code",
   "execution_count": null,
   "id": "f7cc4285-9835-43a7-b0d6-0ac1fb2ec7e5",
   "metadata": {},
   "outputs": [],
   "source": [
    "red = int(input())\n",
    "green = int(input())\n",
    "blue = int(input())\n",
    "print(blue + red + 1)"
   ]
  },
  {
   "cell_type": "code",
   "execution_count": null,
   "id": "d73e5d9f-0428-4cf7-869f-13c32f0c5a5f",
   "metadata": {},
   "outputs": [],
   "source": [
    "A = int(input())\n",
    "B = int(input())\n",
    "C = int(input())\n",
    "print ( round(float(abs(A - B) / C), 2))"
   ]
  }
 ],
 "metadata": {
  "kernelspec": {
   "display_name": "Python 3 (ipykernel)",
   "language": "python",
   "name": "python3"
  },
  "language_info": {
   "codemirror_mode": {
    "name": "ipython",
    "version": 3
   },
   "file_extension": ".py",
   "mimetype": "text/x-python",
   "name": "python",
   "nbconvert_exporter": "python",
   "pygments_lexer": "ipython3",
   "version": "3.11.5"
  }
 },
 "nbformat": 4,
 "nbformat_minor": 5
}
